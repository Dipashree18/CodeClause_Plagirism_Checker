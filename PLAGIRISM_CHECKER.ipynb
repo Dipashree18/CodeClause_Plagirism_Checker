{
  "nbformat": 4,
  "nbformat_minor": 0,
  "metadata": {
    "colab": {
      "provenance": [],
      "authorship_tag": "ABX9TyPHC9KlN2vhk/ud1678qn4E",
      "include_colab_link": true
    },
    "kernelspec": {
      "name": "python3",
      "display_name": "Python 3"
    },
    "language_info": {
      "name": "python"
    }
  },
  "cells": [
    {
      "cell_type": "markdown",
      "metadata": {
        "id": "view-in-github",
        "colab_type": "text"
      },
      "source": [
        "<a href=\"https://colab.research.google.com/github/Dipashree18/CodeClause_Plagirism_Checker/blob/main/PLAGIRISM_CHECKER.ipynb\" target=\"_parent\"><img src=\"https://colab.research.google.com/assets/colab-badge.svg\" alt=\"Open In Colab\"/></a>"
      ]
    },
    {
      "cell_type": "markdown",
      "source": [
        "**The plagirism checker**"
      ],
      "metadata": {
        "id": "32GNMM1PGun1"
      }
    },
    {
      "cell_type": "code",
      "source": [
        "import numpy as np\n",
        "import glob\n",
        "import os"
      ],
      "metadata": {
        "id": "LkipI1Ids0V-"
      },
      "execution_count": null,
      "outputs": []
    },
    {
      "cell_type": "code",
      "source": [
        "def levenshtein(seq1, seq2):\n",
        "    size_x = len(seq1) + 1\n",
        "    size_y = len(seq2) + 1\n",
        " \n",
        "    matrix = np.zeros ((size_x, size_y)) \n",
        " \n",
        "    for x in range(size_x):\n",
        "        matrix [x, 0] = x # row aray with elements of x\n",
        "    for y in range(size_y):\n",
        "        matrix [0, y] = y # column array with elements of y\n",
        "    for x in range(1, size_x):\n",
        "        for y in range(1, size_y):\n",
        "            if seq1[x-1] == seq2[y-1]: # if the alphabets at the postion is same\n",
        "                matrix [x,y] = min(\n",
        "                    matrix[x-1, y] + 1,\n",
        "                    matrix[x-1, y-1],\n",
        "                    matrix[x, y-1] + 1\n",
        "                )\n",
        " \n",
        "            else:         # if the alphabbets at the position are different\n",
        "                matrix [x,y] = min(\n",
        "                    matrix[x-1,y] + 1,\n",
        "                    matrix[x-1,y-1] + 1,\n",
        "                    matrix[x,y-1] + 1\n",
        "                )\n",
        " \n",
        "    # returning the levenshtein distance\n",
        "    return (matrix[size_x - 1, size_y - 1])"
      ],
      "metadata": {
        "id": "Qih_Wb-rs0Sd"
      },
      "execution_count": null,
      "outputs": []
    },
    {
      "cell_type": "code",
      "source": [
        "#one for entire folder with masterfile, one for two separate files , one for all files within the folder\n",
        " \n",
        "choice = int(input(\"Enter 1 for comparing folder with masterfile\\nEnter 2 to check for plagiarism in two files\\nEnter 3 to check for plagiarism in all files in folder\\n\"))"
      ],
      "metadata": {
        "colab": {
          "base_uri": "https://localhost:8080/"
        },
        "id": "0UZ6eDTms0IH",
        "outputId": "3c01dc19-f691-41a8-835a-92d9e7bd053f"
      },
      "execution_count": null,
      "outputs": [
        {
          "name": "stdout",
          "output_type": "stream",
          "text": [
            "Enter 1 for comparing folder with masterfile\n",
            "Enter 2 to check for plagiarism in two files\n",
            "Enter 3 to check for plagiarism in all files in folder\n",
            "2\n"
          ]
        }
      ]
    },
    {
      "cell_type": "code",
      "source": [
        "k=0 # to count the number of plagiarised files\n",
        " \n",
        "if (choice == 1) :\n",
        " \n",
        " \n",
        "  plag = int(input(\"Enter the percentage of plagiarism allowed\\n\"))\n",
        "  path1 = input(\"Enter the path of the folder to scan:\\n\")\n",
        "  os.chdir(path1)\n",
        "  #opening all text files within the folder and stores them in an array\n",
        "  myFiles = glob.glob('*.txt')\n",
        "  print(\"\\nThe text files available are :\\n\")\n",
        "  print(myFiles)\n",
        " \n",
        "  path = input(\"\\nEnter the masterfile path (not in the same folder):\\n\")\n",
        "  with open(path, 'r') as file:\n",
        "      data = file.read().replace('\\n', '')\n",
        "      str1=data.replace(' ', '')\n",
        " \n",
        "  print(\"\\nPlagiarised files are :\")\n",
        "  for i in range (0,len(myFiles)) :\n",
        "    with open(myFiles[i], 'r') as file:\n",
        "        data = file.read().replace('\\n', '')\n",
        "        str2=data.replace(' ', '')\n",
        "    if(len(str1)>len(str2)):\n",
        "        length=len(str1)\n",
        "    else:\n",
        "        length=len(str2)\n",
        "    \n",
        "    n = 100-round((levenshtein(str1,str2)/length)*100,2)\n",
        "\n",
        "    if (n>plag):\n",
        "      print(path,\"and\",myFiles[i],n,\"% plagiarised\")\n",
        "      k = k+1\n",
        " \n",
        "  if (k==0):\n",
        "    print(\"No plagiarised files\")\n",
        " \n",
        "elif (choice == 2) :\n",
        " \n",
        "   plag = int(input(\"Enter the percentage of plagiarism allowed\\n\"))\n",
        "   path2 = input(\"Enter the path of the first file to scan:\\n\")\n",
        "   path3 = input(\"Enter the path of the second file to scan:\\n\")\n",
        " \n",
        "   with open(path2, 'r') as file:\n",
        "     data = file.read().replace('\\n', '')\n",
        "     str1=data.replace(' ', '')\n",
        " \n",
        "   with open(path3, 'r') as file:\n",
        "     data = file.read().replace('\\n', '')\n",
        "     str2=data.replace(' ', '')\n",
        " \n",
        "   if(len(str1)>len(str2)):\n",
        "        length=len(str1)\n",
        " \n",
        "   else:\n",
        "       length=len(str2)\n",
        " \n",
        "   n = 100-round((levenshtein(str1,str2)/length)*100,2)\n",
        "   \n",
        "   if (n>plag):\n",
        "     print(\"\\nFor the files\",path2,\"and\",path3,n,\"% similarity\")\n",
        "   else :\n",
        "     print(\"\\nSimilarities are below the given level\") \n",
        "        \n",
        "elif (choice == 3) :\n",
        " \n",
        "  plag = int(input(\"Enter the percentage of plagiarism allowed\\n\"))\n",
        "  path1 = input(\"Enter the path of the folder to scan:\\n\")\n",
        "  os.chdir(path1)\n",
        "  #opening all text files within the folder and stores them in an array\n",
        "  myFiles = glob.glob('*.txt') \n",
        "  print(\"\\nThe text files available are :\\n\")\n",
        "  print(myFiles)\n",
        "  print(\"\\n\")\n",
        " \n",
        "  for i in range (0,len(myFiles)) :\n",
        "    for j in range(i,len(myFiles)) :\n",
        " \n",
        "      with open(myFiles[i], 'r') as file:\n",
        "          data = file.read().replace('\\n', '')\n",
        "          str1=data.replace(' ', '')\n",
        " \n",
        "      with open(myFiles[j], 'r') as file:\n",
        "          data = file.read().replace('\\n', '')\n",
        "          str2=data.replace(' ', '')\n",
        " \n",
        "      if(len(str1)>len(str2)):\n",
        "          length=len(str1)\n",
        "      else:\n",
        "          length=len(str2)\n",
        "      if (myFiles[i] != myFiles[j]):\n",
        "    \n",
        "        n = 100-round((levenshtein(str1,str2)/length)*100,2)\n",
        "        if(n>plag):\n",
        "          print(\"For the files\",myFiles[i],\"and\",myFiles[j],n,\"% plagiarised\\n\")         \n",
        "          k = k+1\n",
        "  \n",
        "  if k == 0:\n",
        "    print(\"No documents are plagiarised\")\n",
        "else :\n",
        "  print(\"Invalid Input\")"
      ],
      "metadata": {
        "colab": {
          "base_uri": "https://localhost:8080/"
        },
        "id": "YtsQsddls0E-",
        "outputId": "cab3095f-acfa-4985-8a02-6bc95825141d"
      },
      "execution_count": null,
      "outputs": [
        {
          "output_type": "stream",
          "name": "stdout",
          "text": [
            "Enter the percentage of plagiarism allowed\n",
            "10\n",
            "Enter the path of the first file to scan:\n",
            "/content/11.txt\n",
            "Enter the path of the second file to scan:\n",
            "/content/12.txt\n",
            "\n",
            "For the files /content/11.txt and /content/12.txt 98.88 % similarity\n"
          ]
        }
      ]
    },
    {
      "cell_type": "markdown",
      "source": [
        "**Similarity between two files is 98.88%, so the similarity is above the given level, so this is not allowed**"
      ],
      "metadata": {
        "id": "WCiCFZ39G47I"
      }
    },
    {
      "cell_type": "code",
      "source": [
        "#one for entire folder with masterfile, one for two separate files , one for all files within the folder\n",
        " \n",
        "choice = int(input(\"Enter 1 for comparing folder with masterfile\\nEnter 2 to check for plagiarism in two files\\nEnter 3 to check for plagiarism in all files in folder\\n\"))"
      ],
      "metadata": {
        "colab": {
          "base_uri": "https://localhost:8080/"
        },
        "id": "79X1fKcRHvzK",
        "outputId": "6fd2ea3b-b017-4b91-a095-b5ba6b1c0597"
      },
      "execution_count": null,
      "outputs": [
        {
          "name": "stdout",
          "output_type": "stream",
          "text": [
            "Enter 1 for comparing folder with masterfile\n",
            "Enter 2 to check for plagiarism in two files\n",
            "Enter 3 to check for plagiarism in all files in folder\n",
            "2\n"
          ]
        }
      ]
    },
    {
      "cell_type": "code",
      "source": [
        "k=0 # to count the number of plagiarised files\n",
        " \n",
        "if (choice == 1) :\n",
        " \n",
        " \n",
        "  plag = int(input(\"Enter the percentage of plagiarism allowed\\n\"))\n",
        "  path1 = input(\"Enter the path of the folder to scan:\\n\")\n",
        "  os.chdir(path1)\n",
        "  #opening all text files within the folder and stores them in an array\n",
        "  myFiles = glob.glob('*.txt')\n",
        "  print(\"\\nThe text files available are :\\n\")\n",
        "  print(myFiles)\n",
        " \n",
        "  path = input(\"\\nEnter the masterfile path (not in the same folder):\\n\")\n",
        "  with open(path, 'r') as file:\n",
        "      data = file.read().replace('\\n', '')\n",
        "      str1=data.replace(' ', '')\n",
        " \n",
        "  print(\"\\nPlagiarised files are :\")\n",
        "  for i in range (0,len(myFiles)) :\n",
        "    with open(myFiles[i], 'r') as file:\n",
        "        data = file.read().replace('\\n', '')\n",
        "        str2=data.replace(' ', '')\n",
        "    if(len(str1)>len(str2)):\n",
        "        length=len(str1)\n",
        "    else:\n",
        "        length=len(str2)\n",
        "    \n",
        "    n = 100-round((levenshtein(str1,str2)/length)*100,2)\n",
        "\n",
        "    if (n>plag):\n",
        "      print(path,\"and\",myFiles[i],n,\"% plagiarised\")\n",
        "      k = k+1\n",
        " \n",
        "  if (k==0):\n",
        "    print(\"No plagiarised files\")\n",
        " \n",
        "elif (choice == 2) :\n",
        " \n",
        "   plag = int(input(\"Enter the percentage of plagiarism allowed\\n\"))\n",
        "   path2 = input(\"Enter the path of the first file to scan:\\n\")\n",
        "   path3 = input(\"Enter the path of the second file to scan:\\n\")\n",
        " \n",
        "   with open(path2, 'r') as file:\n",
        "     data = file.read().replace('\\n', '')\n",
        "     str1=data.replace(' ', '')\n",
        " \n",
        "   with open(path3, 'r') as file:\n",
        "     data = file.read().replace('\\n', '')\n",
        "     str2=data.replace(' ', '')\n",
        " \n",
        "   if(len(str1)>len(str2)):\n",
        "        length=len(str1)\n",
        " \n",
        "   else:\n",
        "       length=len(str2)\n",
        " \n",
        "   n = 100-round((levenshtein(str1,str2)/length)*100,2)\n",
        "   \n",
        "   if (n>plag):\n",
        "     print(\"\\nFor the files\",path2,\"and\",path3,n,\"% similarity\")\n",
        "   else :\n",
        "     print(\"\\nSimilarities are below the given level\") \n",
        "        \n",
        "elif (choice == 3) :\n",
        " \n",
        "  plag = int(input(\"Enter the percentage of plagiarism allowed\\n\"))\n",
        "  path1 = input(\"Enter the path of the folder to scan:\\n\")\n",
        "  os.chdir(path1)\n",
        "  #opening all text files within the folder and stores them in an array\n",
        "  myFiles = glob.glob('*.txt') \n",
        "  print(\"\\nThe text files available are :\\n\")\n",
        "  print(myFiles)\n",
        "  print(\"\\n\")\n",
        " \n",
        "  for i in range (0,len(myFiles)) :\n",
        "    for j in range(i,len(myFiles)) :\n",
        " \n",
        "      with open(myFiles[i], 'r') as file:\n",
        "          data = file.read().replace('\\n', '')\n",
        "          str1=data.replace(' ', '')\n",
        " \n",
        "      with open(myFiles[j], 'r') as file:\n",
        "          data = file.read().replace('\\n', '')\n",
        "          str2=data.replace(' ', '')\n",
        " \n",
        "      if(len(str1)>len(str2)):\n",
        "          length=len(str1)\n",
        "      else:\n",
        "          length=len(str2)\n",
        "      if (myFiles[i] != myFiles[j]):\n",
        "    \n",
        "        n = 100-round((levenshtein(str1,str2)/length)*100,2)\n",
        "        if(n>plag):\n",
        "          print(\"For the files\",myFiles[i],\"and\",myFiles[j],n,\"% plagiarised\\n\")         \n",
        "          k = k+1\n",
        "  \n",
        "  if k == 0:\n",
        "    print(\"No documents are plagiarised\")\n",
        "else :\n",
        "  print(\"Invalid Input\")"
      ],
      "metadata": {
        "colab": {
          "base_uri": "https://localhost:8080/"
        },
        "id": "flrqZHawHvly",
        "outputId": "ad12427a-b903-4802-bdd6-06b495e2e189"
      },
      "execution_count": null,
      "outputs": [
        {
          "output_type": "stream",
          "name": "stdout",
          "text": [
            "Enter the percentage of plagiarism allowed\n",
            "10\n",
            "Enter the path of the first file to scan:\n",
            "/content/1.txt\n",
            "Enter the path of the second file to scan:\n",
            "/content/12.txt\n",
            "\n",
            "Similarities are below the given level\n"
          ]
        }
      ]
    },
    {
      "cell_type": "markdown",
      "source": [
        "**Here similarities are below the given level, so this is allowed**"
      ],
      "metadata": {
        "id": "svUHXatqIjSJ"
      }
    }
  ]
}